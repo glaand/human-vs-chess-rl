{
 "cells": [
  {
   "cell_type": "code",
   "execution_count": 1,
   "metadata": {},
   "outputs": [
    {
     "name": "stdout",
     "output_type": "stream",
     "text": [
      "Chess game against Stockfish\n",
      "\n",
      "r n b q k b n r\n",
      "p p p p p p p p\n",
      ". . . . . . . .\n",
      ". . . . . . . .\n",
      ". . . . . . . .\n",
      ". . . . . . . .\n",
      "P P P P P P P P\n",
      "R N B Q K B N R\n"
     ]
    },
    {
     "ename": "InvalidMoveError",
     "evalue": "expected uci string to be of length 4 or 5: ''",
     "output_type": "error",
     "traceback": [
      "\u001b[0;31m---------------------------------------------------------------------------\u001b[0m",
      "\u001b[0;31mInvalidMoveError\u001b[0m                          Traceback (most recent call last)",
      "\u001b[1;32m/Users/benitorusconi/Documents/CDS/05_HS23/Reinforcement Learning (cds-117)/self-driving-car/benito/test_bot.ipynb Cell 1\u001b[0m line \u001b[0;36m<cell line: 39>\u001b[0;34m()\u001b[0m\n\u001b[1;32m     <a href='vscode-notebook-cell:/Users/benitorusconi/Documents/CDS/05_HS23/Reinforcement%20Learning%20%28cds-117%29/self-driving-car/benito/test_bot.ipynb#W0sZmlsZQ%3D%3D?line=35'>36</a>\u001b[0m     \u001b[39mprint\u001b[39m(\u001b[39m\"\u001b[39m\u001b[39mResult:\u001b[39m\u001b[39m\"\u001b[39m, board\u001b[39m.\u001b[39mresult())\n\u001b[1;32m     <a href='vscode-notebook-cell:/Users/benitorusconi/Documents/CDS/05_HS23/Reinforcement%20Learning%20%28cds-117%29/self-driving-car/benito/test_bot.ipynb#W0sZmlsZQ%3D%3D?line=37'>38</a>\u001b[0m \u001b[39m# Play the game\u001b[39;00m\n\u001b[0;32m---> <a href='vscode-notebook-cell:/Users/benitorusconi/Documents/CDS/05_HS23/Reinforcement%20Learning%20%28cds-117%29/self-driving-car/benito/test_bot.ipynb#W0sZmlsZQ%3D%3D?line=38'>39</a>\u001b[0m play_game()\n",
      "\u001b[1;32m/Users/benitorusconi/Documents/CDS/05_HS23/Reinforcement Learning (cds-117)/self-driving-car/benito/test_bot.ipynb Cell 1\u001b[0m line \u001b[0;36mplay_game\u001b[0;34m()\u001b[0m\n\u001b[1;32m     <a href='vscode-notebook-cell:/Users/benitorusconi/Documents/CDS/05_HS23/Reinforcement%20Learning%20%28cds-117%29/self-driving-car/benito/test_bot.ipynb#W0sZmlsZQ%3D%3D?line=17'>18</a>\u001b[0m \u001b[39m# Player's move\u001b[39;00m\n\u001b[1;32m     <a href='vscode-notebook-cell:/Users/benitorusconi/Documents/CDS/05_HS23/Reinforcement%20Learning%20%28cds-117%29/self-driving-car/benito/test_bot.ipynb#W0sZmlsZQ%3D%3D?line=18'>19</a>\u001b[0m player_move \u001b[39m=\u001b[39m \u001b[39minput\u001b[39m(\u001b[39m\"\u001b[39m\u001b[39mYour move (in algebraic notation): \u001b[39m\u001b[39m\"\u001b[39m)\n\u001b[0;32m---> <a href='vscode-notebook-cell:/Users/benitorusconi/Documents/CDS/05_HS23/Reinforcement%20Learning%20%28cds-117%29/self-driving-car/benito/test_bot.ipynb#W0sZmlsZQ%3D%3D?line=19'>20</a>\u001b[0m \u001b[39mif\u001b[39;00m chess\u001b[39m.\u001b[39;49mMove\u001b[39m.\u001b[39;49mfrom_uci(player_move) \u001b[39min\u001b[39;00m board\u001b[39m.\u001b[39mlegal_moves:\n\u001b[1;32m     <a href='vscode-notebook-cell:/Users/benitorusconi/Documents/CDS/05_HS23/Reinforcement%20Learning%20%28cds-117%29/self-driving-car/benito/test_bot.ipynb#W0sZmlsZQ%3D%3D?line=20'>21</a>\u001b[0m     board\u001b[39m.\u001b[39mpush_uci(player_move)\n\u001b[1;32m     <a href='vscode-notebook-cell:/Users/benitorusconi/Documents/CDS/05_HS23/Reinforcement%20Learning%20%28cds-117%29/self-driving-car/benito/test_bot.ipynb#W0sZmlsZQ%3D%3D?line=21'>22</a>\u001b[0m \u001b[39melse\u001b[39;00m:\n",
      "File \u001b[0;32m/opt/homebrew/anaconda3/envs/RL/lib/python3.10/site-packages/chess/__init__.py:612\u001b[0m, in \u001b[0;36mMove.from_uci\u001b[0;34m(cls, uci)\u001b[0m\n\u001b[1;32m    610\u001b[0m     \u001b[39mreturn\u001b[39;00m \u001b[39mcls\u001b[39m(from_square, to_square, promotion\u001b[39m=\u001b[39mpromotion)\n\u001b[1;32m    611\u001b[0m \u001b[39melse\u001b[39;00m:\n\u001b[0;32m--> 612\u001b[0m     \u001b[39mraise\u001b[39;00m InvalidMoveError(\u001b[39mf\u001b[39m\u001b[39m\"\u001b[39m\u001b[39mexpected uci string to be of length 4 or 5: \u001b[39m\u001b[39m{\u001b[39;00muci\u001b[39m!r}\u001b[39;00m\u001b[39m\"\u001b[39m)\n",
      "\u001b[0;31mInvalidMoveError\u001b[0m: expected uci string to be of length 4 or 5: ''"
     ]
    }
   ],
   "source": [
    "from stockfish import Stockfish\n",
    "import chess\n",
    "\n",
    "stockfish_path = \"/Users/benitorusconi/Documents/CDS/05_HS23/Reinforcement Learning (cds-117)/engine/stockfish\"\n",
    "stockfish = Stockfish(path=stockfish_path)\n",
    "\n",
    "def print_board(board):\n",
    "    print(board)\n",
    "\n",
    "def play_game():\n",
    "    board = chess.Board()\n",
    "\n",
    "    print(\"Chess game against Stockfish\\n\")\n",
    "\n",
    "    while not board.is_game_over():\n",
    "        print_board(board)\n",
    "\n",
    "        # Player's move\n",
    "        player_move = input(\"Your move (in algebraic notation): \")\n",
    "        if chess.Move.from_uci(player_move) in board.legal_moves:\n",
    "            board.push_uci(player_move)\n",
    "        else:\n",
    "            print(\"Invalid move. Try again.\")\n",
    "            continue\n",
    "\n",
    "        if board.is_game_over():\n",
    "            break\n",
    "\n",
    "        # Stockfish's move\n",
    "        stockfish.set_fen_position(board.fen())\n",
    "        stockfish_move = stockfish.get_best_move()\n",
    "        print(\"Stockfish's move:\", stockfish_move)\n",
    "        board.push_uci(stockfish_move)\n",
    "\n",
    "    print(\"\\nGame Over\")\n",
    "    print(\"Result:\", board.result())\n",
    "\n",
    "# Play the game\n",
    "play_game()\n"
   ]
  },
  {
   "cell_type": "code",
   "execution_count": null,
   "metadata": {},
   "outputs": [],
   "source": []
  }
 ],
 "metadata": {
  "kernelspec": {
   "display_name": "RL",
   "language": "python",
   "name": "python3"
  },
  "language_info": {
   "codemirror_mode": {
    "name": "ipython",
    "version": 3
   },
   "file_extension": ".py",
   "mimetype": "text/x-python",
   "name": "python",
   "nbconvert_exporter": "python",
   "pygments_lexer": "ipython3",
   "version": "3.10.13"
  },
  "orig_nbformat": 4
 },
 "nbformat": 4,
 "nbformat_minor": 2
}
